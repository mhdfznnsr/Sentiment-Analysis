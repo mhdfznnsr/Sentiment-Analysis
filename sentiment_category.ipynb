{
 "cells": [
  {
   "cell_type": "code",
   "execution_count": 3,
   "metadata": {},
   "outputs": [],
   "source": [
    "import random\n",
    "\n",
    "class Sentiment:\n",
    "    NEGATIVE = \"NEGATIVE\"\n",
    "    NEUTRAL = \"NEUTRAL\"\n",
    "    POSITIVE = \"POSITIVE\"\n",
    "\n",
    "class Review:\n",
    "    def __init__(self,text,score):\n",
    "        self.text = text\n",
    "        self.score = score\n",
    "        self.sentiment = self.get_sentiment()\n",
    "\n",
    "    def get_sentiment(self):\n",
    "        if self.score <= 2:\n",
    "            return 'NEGATIVE'\n",
    "        elif self.score == 3:\n",
    "            return 'NEUTRAL'\n",
    "        else:\n",
    "            return 'POSITIVE'\n",
    "class ReviewContainer:\n",
    "    def __init__(self,reviews):\n",
    "        self.reviews = reviews\n",
    "\n",
    "    def get_text(self):\n",
    "        return [x.text for x in self.reviews]\n",
    "\n",
    "    def get_sentiment(self):    \n",
    "        return [x.sentiment for x in self.reviews]\n",
    "    \n",
    "    def evelny_distribute(self):\n",
    "        negative = list(filter(lambda x: x.sentiment == Sentiment.NEGATIVE,self.reviews))\n",
    "        positive = list(filter(lambda x: x.sentiment == Sentiment.POSITIVE,self.reviews))[:len(negative)]\n",
    "        self.reviews = negative + positive\n",
    "        random.shuffle(self.reviews)"
   ]
  },
  {
   "cell_type": "code",
   "execution_count": 4,
   "metadata": {},
   "outputs": [],
   "source": [
    "import json\n",
    "\n",
    "file_path = './data/sentiment/books_small_10000.json'\n",
    "reviews = []\n",
    "with open(file_path) as f:\n",
    "    for line in f:\n",
    "        review  = json.loads(line)\n",
    "        reviews.append(Review(review['reviewText'],review['overall']))"
   ]
  },
  {
   "cell_type": "code",
   "execution_count": 5,
   "metadata": {},
   "outputs": [
    {
     "data": {
      "text/plain": [
       "2.0"
      ]
     },
     "execution_count": 5,
     "metadata": {},
     "output_type": "execute_result"
    }
   ],
   "source": [
    "reviews[6].score"
   ]
  },
  {
   "cell_type": "code",
   "execution_count": 6,
   "metadata": {},
   "outputs": [],
   "source": [
    "from sklearn.model_selection import train_test_split\n",
    "\n",
    "training,testing = train_test_split(reviews,test_size=0.33,random_state=42)\n",
    "\n",
    "train_container = ReviewContainer(training)\n",
    "test_container = ReviewContainer(testing)"
   ]
  },
  {
   "cell_type": "code",
   "execution_count": 7,
   "metadata": {},
   "outputs": [],
   "source": [
    "train_container.evelny_distribute()\n",
    "train_x = train_container.get_text()\n",
    "train_y = train_container.get_sentiment()\n",
    "\n",
    "test_container.evelny_distribute()\n",
    "test_x = test_container.get_text()\n",
    "test_y = test_container.get_sentiment()"
   ]
  },
  {
   "cell_type": "code",
   "execution_count": 8,
   "metadata": {},
   "outputs": [
    {
     "data": {
      "text/plain": [
       "436"
      ]
     },
     "execution_count": 8,
     "metadata": {},
     "output_type": "execute_result"
    }
   ],
   "source": [
    "train_y.count(Sentiment.NEGATIVE)"
   ]
  },
  {
   "cell_type": "code",
   "execution_count": 9,
   "metadata": {},
   "outputs": [],
   "source": [
    "from sklearn.feature_extraction.text import CountVectorizer,TfidfVectorizer\n",
    "vectorizer = TfidfVectorizer()\n",
    "train_x_vectors = vectorizer.fit_transform(train_x)\n",
    "test_x_vectors = vectorizer.transform(test_x)"
   ]
  },
  {
   "cell_type": "code",
   "execution_count": 10,
   "metadata": {},
   "outputs": [
    {
     "name": "stdout",
     "output_type": "stream",
     "text": [
      "  (0, 4277)\t0.08156963149689153\n",
      "  (0, 6399)\t0.15950254218537435\n",
      "  (0, 3076)\t0.22359463766091803\n",
      "  (0, 2781)\t0.1759045283943843\n",
      "  (0, 2229)\t0.17021509189982464\n",
      "  (0, 7813)\t0.3455339067840174\n",
      "  (0, 5260)\t0.13284532999488358\n",
      "  (0, 3177)\t0.09682972517359191\n",
      "  (0, 7176)\t0.35804566216647465\n",
      "  (0, 423)\t0.07090991196751698\n",
      "  (0, 1983)\t0.28031553807255305\n",
      "  (0, 8079)\t0.16416012228235113\n",
      "  (0, 991)\t0.0823852158006002\n",
      "  (0, 4212)\t0.1607349089861157\n",
      "  (0, 3374)\t0.1540846337385369\n",
      "  (0, 5408)\t0.20720040553607527\n",
      "  (0, 1790)\t0.16199497172828412\n",
      "  (0, 1168)\t0.10241348265539653\n",
      "  (0, 660)\t0.15156013646110764\n",
      "  (0, 7976)\t0.15033654473413463\n",
      "  (0, 1181)\t0.1468284988972087\n",
      "  (0, 7001)\t0.3969107242134355\n",
      "  (0, 449)\t0.19520787071972256\n",
      "  (0, 4686)\t0.22755419518109515\n",
      "  (0, 6411)\t0.14914442116231547\n",
      "  (0, 8255)\t0.19808966733809502\n",
      "  (0, 8004)\t0.41364970771359877\n",
      "  (0, 7982)\t0.340444378174127\n",
      "  (0, 7976)\t0.07833835670626374\n",
      "  (0, 7280)\t0.13364917447440278\n",
      "  (0, 6293)\t0.21022309441585604\n",
      "  (0, 5478)\t0.08500968144375726\n",
      "  (0, 5408)\t0.10796935174526512\n",
      "  (0, 4277)\t0.1700193628875145\n",
      "  (0, 4034)\t0.09587499862426523\n",
      "  (0, 3318)\t0.3257587943861387\n",
      "  (0, 3077)\t0.25738556354439296\n",
      "  (0, 3076)\t0.23302433235598619\n",
      "  (0, 2781)\t0.18332297999765781\n",
      "  (0, 2688)\t0.19882470973623073\n",
      "  (0, 2416)\t0.19956911598346247\n",
      "  (0, 2004)\t0.2959086478976062\n",
      "  (0, 1790)\t0.3376536264635862\n",
      "  (0, 991)\t0.08585966152306465\n"
     ]
    }
   ],
   "source": [
    "print(train_x_vectors[0])\n",
    "print(test_x_vectors[0])"
   ]
  },
  {
   "cell_type": "code",
   "execution_count": 11,
   "metadata": {},
   "outputs": [],
   "source": [
    "def predict_f1_score(model,i):\n",
    "    print(test_x[i])\n",
    "    print('Truth: ',test_y[i])\n",
    "    if model == gnb_model:\n",
    "        print('Predicted: ',model.predict(test_x_vectors[i].toarray()))\n",
    "        print(f1_score(test_y,model.predict(test_x_vectors.toarray()),average=None,labels=[Sentiment.POSITIVE,Sentiment.NEGATIVE,Sentiment.NEUTRAL]))\n",
    "\n",
    "    else:\n",
    "        print('Predicted: ',model.predict(test_x_vectors[i]))\n",
    "        print(f1_score(test_y,model.predict(test_x_vectors),average=None,labels=[Sentiment.POSITIVE,Sentiment.NEGATIVE,Sentiment.NEUTRAL]))"
   ]
  },
  {
   "cell_type": "markdown",
   "metadata": {},
   "source": [
    "Linear SVM"
   ]
  },
  {
   "cell_type": "code",
   "execution_count": 12,
   "metadata": {},
   "outputs": [
    {
     "name": "stdout",
     "output_type": "stream",
     "text": [
      "416\n",
      "416\n"
     ]
    }
   ],
   "source": [
    "print(len(test_x))\n",
    "print(len(test_y))"
   ]
  },
  {
   "cell_type": "code",
   "execution_count": 13,
   "metadata": {},
   "outputs": [
    {
     "data": {
      "text/plain": [
       "0.8076923076923077"
      ]
     },
     "execution_count": 13,
     "metadata": {},
     "output_type": "execute_result"
    }
   ],
   "source": [
    "from sklearn.svm import SVC\n",
    "clf_svm = SVC(kernel='linear')\n",
    "svm_model = clf_svm.fit(train_x_vectors,train_y)\n",
    "svm_model.score(test_x_vectors,test_y)"
   ]
  },
  {
   "cell_type": "code",
   "execution_count": 31,
   "metadata": {},
   "outputs": [
    {
     "name": "stdout",
     "output_type": "stream",
     "text": [
      "I really enjoyed this book. I couldn't put this book down until I finished it. The characters were good and the story line volume good.\n",
      "Truth:  NEGATIVE\n",
      "Predicted:  ['POSITIVE']\n",
      "[0.80582524 0.80952381 0.        ]\n"
     ]
    },
    {
     "name": "stderr",
     "output_type": "stream",
     "text": [
      "d:\\anaconda3\\lib\\site-packages\\sklearn\\metrics\\_classification.py:1495: UndefinedMetricWarning: F-score is ill-defined and being set to 0.0 in labels with no true nor predicted samples. Use `zero_division` parameter to control this behavior.\n",
      "  _warn_prf(\n"
     ]
    }
   ],
   "source": [
    "predict_f1_score(svm_model,100)"
   ]
  },
  {
   "cell_type": "markdown",
   "metadata": {},
   "source": [
    "Decision Tree"
   ]
  },
  {
   "cell_type": "code",
   "execution_count": 15,
   "metadata": {},
   "outputs": [],
   "source": [
    "from sklearn.tree import DecisionTreeClassifier\n",
    "\n",
    "clf_dt = DecisionTreeClassifier()\n",
    "dt_model = clf_dt.fit(train_x_vectors,train_y)"
   ]
  },
  {
   "cell_type": "code",
   "execution_count": 32,
   "metadata": {},
   "outputs": [
    {
     "name": "stdout",
     "output_type": "stream",
     "text": [
      "I really enjoyed this book. I couldn't put this book down until I finished it. The characters were good and the story line volume good.\n",
      "Truth:  NEGATIVE\n",
      "Predicted:  ['POSITIVE']\n",
      "[0.64039409 0.657277   0.        ]\n"
     ]
    },
    {
     "name": "stderr",
     "output_type": "stream",
     "text": [
      "d:\\anaconda3\\lib\\site-packages\\sklearn\\metrics\\_classification.py:1495: UndefinedMetricWarning: F-score is ill-defined and being set to 0.0 in labels with no true nor predicted samples. Use `zero_division` parameter to control this behavior.\n",
      "  _warn_prf(\n"
     ]
    }
   ],
   "source": [
    "predict_f1_score(dt_model,100)"
   ]
  },
  {
   "cell_type": "markdown",
   "metadata": {},
   "source": [
    "Gaussin Naive bayes"
   ]
  },
  {
   "cell_type": "code",
   "execution_count": 17,
   "metadata": {},
   "outputs": [],
   "source": [
    "from sklearn.naive_bayes import GaussianNB\n",
    "\n",
    "clf_gnb = GaussianNB()\n",
    "gnb_model = clf_gnb.fit(train_x_vectors.toarray(),train_y)"
   ]
  },
  {
   "cell_type": "code",
   "execution_count": 33,
   "metadata": {},
   "outputs": [
    {
     "name": "stdout",
     "output_type": "stream",
     "text": [
      "I really enjoyed this book. I couldn't put this book down until I finished it. The characters were good and the story line volume good.\n",
      "Truth:  NEGATIVE\n",
      "Predicted:  ['NEGATIVE']\n",
      "[0.65693431 0.66508314 0.        ]\n"
     ]
    },
    {
     "name": "stderr",
     "output_type": "stream",
     "text": [
      "d:\\anaconda3\\lib\\site-packages\\sklearn\\metrics\\_classification.py:1495: UndefinedMetricWarning: F-score is ill-defined and being set to 0.0 in labels with no true nor predicted samples. Use `zero_division` parameter to control this behavior.\n",
      "  _warn_prf(\n"
     ]
    }
   ],
   "source": [
    "predict_f1_score(gnb_model,100)"
   ]
  },
  {
   "cell_type": "markdown",
   "metadata": {},
   "source": [
    "Logistic Regression"
   ]
  },
  {
   "cell_type": "code",
   "execution_count": 19,
   "metadata": {},
   "outputs": [],
   "source": [
    "from sklearn.linear_model import LogisticRegression\n",
    "\n",
    "clf_lr = LogisticRegression()\n",
    "lr_model = clf_lr.fit(train_x_vectors,train_y)"
   ]
  },
  {
   "cell_type": "code",
   "execution_count": 34,
   "metadata": {},
   "outputs": [
    {
     "name": "stdout",
     "output_type": "stream",
     "text": [
      "I really enjoyed this book. I couldn't put this book down until I finished it. The characters were good and the story line volume good.\n",
      "Truth:  NEGATIVE\n",
      "Predicted:  ['POSITIVE']\n",
      "[0.80291971 0.80760095 0.        ]\n"
     ]
    },
    {
     "name": "stderr",
     "output_type": "stream",
     "text": [
      "d:\\anaconda3\\lib\\site-packages\\sklearn\\metrics\\_classification.py:1495: UndefinedMetricWarning: F-score is ill-defined and being set to 0.0 in labels with no true nor predicted samples. Use `zero_division` parameter to control this behavior.\n",
      "  _warn_prf(\n"
     ]
    }
   ],
   "source": [
    "predict_f1_score(lr_model,100)"
   ]
  },
  {
   "cell_type": "markdown",
   "metadata": {},
   "source": [
    "checking scores of every model"
   ]
  },
  {
   "cell_type": "code",
   "execution_count": 21,
   "metadata": {},
   "outputs": [
    {
     "name": "stdout",
     "output_type": "stream",
     "text": [
      "0.8076923076923077\n",
      "0.8052884615384616\n",
      "0.6490384615384616\n",
      "0.6610576923076923\n"
     ]
    }
   ],
   "source": [
    "print(clf_svm.score(test_x_vectors,test_y))\n",
    "print(clf_lr.score(test_x_vectors,test_y))\n",
    "print(clf_dt.score(test_x_vectors,test_y))\n",
    "print(clf_gnb.score(test_x_vectors.toarray(),test_y))\n"
   ]
  },
  {
   "cell_type": "markdown",
   "metadata": {},
   "source": [
    "check f1 scores"
   ]
  },
  {
   "cell_type": "code",
   "execution_count": 22,
   "metadata": {},
   "outputs": [
    {
     "name": "stderr",
     "output_type": "stream",
     "text": [
      "d:\\anaconda3\\lib\\site-packages\\sklearn\\metrics\\_classification.py:1495: UndefinedMetricWarning: F-score is ill-defined and being set to 0.0 in labels with no true nor predicted samples. Use `zero_division` parameter to control this behavior.\n",
      "  _warn_prf(\n",
      "d:\\anaconda3\\lib\\site-packages\\sklearn\\metrics\\_classification.py:1495: UndefinedMetricWarning: F-score is ill-defined and being set to 0.0 in labels with no true nor predicted samples. Use `zero_division` parameter to control this behavior.\n",
      "  _warn_prf(\n",
      "d:\\anaconda3\\lib\\site-packages\\sklearn\\metrics\\_classification.py:1495: UndefinedMetricWarning: F-score is ill-defined and being set to 0.0 in labels with no true nor predicted samples. Use `zero_division` parameter to control this behavior.\n",
      "  _warn_prf(\n",
      "d:\\anaconda3\\lib\\site-packages\\sklearn\\metrics\\_classification.py:1495: UndefinedMetricWarning: F-score is ill-defined and being set to 0.0 in labels with no true nor predicted samples. Use `zero_division` parameter to control this behavior.\n",
      "  _warn_prf(\n"
     ]
    }
   ],
   "source": [
    "from sklearn.metrics import f1_score\n",
    "\n",
    "f1_svm = f1_score(test_y,clf_svm.predict(test_x_vectors),average=None,labels=[Sentiment.POSITIVE,Sentiment.NEGATIVE,Sentiment.NEUTRAL])\n",
    "f1_dt = f1_score(test_y,clf_dt.predict(test_x_vectors),average=None,labels=[Sentiment.POSITIVE,Sentiment.NEGATIVE,Sentiment.NEUTRAL])\n",
    "f1_gnb = f1_score(test_y,clf_gnb.predict(test_x_vectors.toarray()),average=None,labels=[Sentiment.POSITIVE,Sentiment.NEGATIVE,Sentiment.NEUTRAL])\n",
    "f1_lr = f1_score(test_y,clf_lr.predict(test_x_vectors),average=None,labels=[Sentiment.POSITIVE,Sentiment.NEGATIVE,Sentiment.NEUTRAL])"
   ]
  },
  {
   "cell_type": "markdown",
   "metadata": {},
   "source": [
    "performing well on positive but not on negative and neutral"
   ]
  },
  {
   "cell_type": "code",
   "execution_count": 23,
   "metadata": {},
   "outputs": [
    {
     "name": "stdout",
     "output_type": "stream",
     "text": [
      "[0.80582524 0.80952381 0.        ] [0.64039409 0.657277   0.        ] [0.65693431 0.66508314 0.        ] [0.80291971 0.80760095 0.        ]\n"
     ]
    }
   ],
   "source": [
    "print(f1_svm, f1_dt, f1_gnb,f1_lr)"
   ]
  },
  {
   "cell_type": "markdown",
   "metadata": {},
   "source": [
    "it can be seen that SVM and Logitic Regression are performing better now"
   ]
  },
  {
   "cell_type": "markdown",
   "metadata": {},
   "source": [
    "Tuining our model more!!"
   ]
  },
  {
   "cell_type": "code",
   "execution_count": 24,
   "metadata": {},
   "outputs": [
    {
     "data": {
      "text/plain": [
       "GridSearchCV(cv=5, estimator=SVC(),\n",
       "             param_grid={'C': (2, 3, 5, 7, 11, 13),\n",
       "                         'kernel': ('linear', 'poly', 'rbf', 'sigmoid')})"
      ]
     },
     "execution_count": 24,
     "metadata": {},
     "output_type": "execute_result"
    }
   ],
   "source": [
    "from sklearn.model_selection import GridSearchCV\n",
    "\n",
    "parameters = {'kernel':('linear','poly','rbf','sigmoid'),'C':(2,3,5,7,11,13)}\n",
    "svc = SVC()\n",
    "clf = GridSearchCV(svc,parameters,cv=5)\n",
    "clf.fit(train_x_vectors,train_y)"
   ]
  },
  {
   "cell_type": "code",
   "execution_count": 25,
   "metadata": {},
   "outputs": [
    {
     "name": "stdout",
     "output_type": "stream",
     "text": [
      "0.8173076923076923\n"
     ]
    }
   ],
   "source": [
    "print(clf.score(test_x_vectors,test_y))"
   ]
  },
  {
   "cell_type": "markdown",
   "metadata": {},
   "source": [
    "save model"
   ]
  },
  {
   "cell_type": "code",
   "execution_count": 35,
   "metadata": {},
   "outputs": [],
   "source": [
    "import pickle\n",
    "\n",
    "with open('./models/Sentiment_Prediction.pkl','wb') as f:\n",
    "    pickle.dump(clf,f)\n",
    "\n",
    "with open('trained_vectorizer.pkl','wb') as f:\n",
    "    pickle.dump(vectorizer,f)\n"
   ]
  },
  {
   "cell_type": "code",
   "execution_count": 40,
   "metadata": {},
   "outputs": [],
   "source": [
    "import pickle\n",
    "\n",
    "with open('./models/Sentiment_Prediction.pkl','rb') as f:\n",
    "    clf = pickle.load(f)\n",
    "\n",
    "with open('trained_vectorizer.pkl','rb') as f:\n",
    "    vec = pickle.load(f)"
   ]
  },
  {
   "cell_type": "code",
   "execution_count": 43,
   "metadata": {},
   "outputs": [
    {
     "data": {
      "text/plain": [
       "array(['POSITIVE'], dtype='<U8')"
      ]
     },
     "execution_count": 43,
     "metadata": {},
     "output_type": "execute_result"
    }
   ],
   "source": [
    "test_set = ['good product']\n",
    "test_vec = vec.transform(test_set)\n",
    "clf.predict(test_vec)"
   ]
  },
  {
   "cell_type": "code",
   "execution_count": 28,
   "metadata": {},
   "outputs": [
    {
     "data": {
      "text/plain": [
       "array(['POSITIVE'], dtype='<U8')"
      ]
     },
     "execution_count": 28,
     "metadata": {},
     "output_type": "execute_result"
    }
   ],
   "source": [
    "model.predict(test_x_vectors[99])"
   ]
  },
  {
   "cell_type": "code",
   "execution_count": 29,
   "metadata": {},
   "outputs": [
    {
     "data": {
      "text/plain": [
       "\"This hole series was amazing I'm glad I read it the story was so catching I just couldn't put it down\""
      ]
     },
     "execution_count": 29,
     "metadata": {},
     "output_type": "execute_result"
    }
   ],
   "source": [
    "test_x[99]"
   ]
  },
  {
   "cell_type": "code",
   "execution_count": 30,
   "metadata": {},
   "outputs": [
    {
     "data": {
      "text/plain": [
       "Text(33.0, 0.5, 'Truth')"
      ]
     },
     "execution_count": 30,
     "metadata": {},
     "output_type": "execute_result"
    },
    {
     "data": {
      "image/png": "[encoded data removed]",
      "text/plain": [
       "<Figure size 432x288 with 2 Axes>"
      ]
     },
     "metadata": {
      "needs_background": "light"
     },
     "output_type": "display_data"
    }
   ],
   "source": [
    "import seaborn as sb\n",
    "from sklearn.metrics import confusion_matrix\n",
    "import matplotlib.pyplot as plt\n",
    "\n",
    "predicted = model.predict(test_x_vectors)\n",
    "\n",
    "cm = confusion_matrix(test_y,predicted)\n",
    "sb.heatmap(cm,annot=True,fmt='d')\n",
    "plt.xlabel('Predicted')\n",
    "plt.ylabel('Truth')"
   ]
  },
  {
   "cell_type": "code",
   "execution_count": null,
   "metadata": {},
   "outputs": [],
   "source": []
  }
 ],
 "metadata": {
  "interpreter": {
   "hash": "49cb93f377a7abe7414b7b0f21fb3017538004a126cf690fb524202736b7fb92"
  },
  "kernelspec": {
   "display_name": "Python 3.9.7 ('base')",
   "language": "python",
   "name": "python3"
  },
  "language_info": {
   "codemirror_mode": {
    "name": "ipython",
    "version": 3
   },
   "file_extension": ".py",
   "mimetype": "text/x-python",
   "name": "python",
   "nbconvert_exporter": "python",
   "pygments_lexer": "ipython3",
   "version": "3.9.7"
  },
  "orig_nbformat": 4
 },
 "nbformat": 4,
 "nbformat_minor": 2
}
